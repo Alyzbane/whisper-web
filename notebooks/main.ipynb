{
 "cells": [
  {
   "cell_type": "code",
   "execution_count": null,
   "id": "4e45dbf9",
   "metadata": {},
   "outputs": [],
   "source": [
    "!uv pip install faster-whisper"
   ]
  },
  {
   "cell_type": "code",
   "execution_count": null,
   "id": "fbc3907d",
   "metadata": {},
   "outputs": [],
   "source": [
    "from faster_whisper import WhisperModel\n",
    "\n",
    "model_size = \"small\"\n",
    "\n",
    "# Run on GPU with FP16\n",
    "# model = WhisperModel(model_size, device=\"cuda\", compute_type=\"float16\")\n",
    "\n",
    "# or run on GPU with INT8\n",
    "# model = WhisperModel(model_size, device=\"cuda\", compute_type=\"int8_float16\")\n",
    "# or run on CPU with INT8\n",
    "model = WhisperModel(model_size, device=\"cpu\", compute_type=\"int8\")"
   ]
  },
  {
   "cell_type": "code",
   "execution_count": null,
   "id": "e41ce89d",
   "metadata": {},
   "outputs": [],
   "source": [
    "from faster_whisper import BatchedInferencePipeline\n",
    "pipe = BatchedInferencePipeline(model)\n",
    "segments, info = pipe.transcribe(\"sample.wav\", beam_size=5, task='transcribe', batch_size=8, language='zh')\n",
    "\n",
    "print(\"Detected language '%s' with probability %f\" % (info.language, info.language_probability))\n",
    "\n",
    "for segment in segments:\n",
    "    print(\"id=%s [%s -> %s] %s\" % (segment.id, segment.start, segment.end, segment.text))\n",
    "    if segment.words:\n",
    "        for word in segment.words:\n",
    "            print(\"  [%s -> %s] %s\" % (word.start, word.end, word.word))"
   ]
  },
  {
   "cell_type": "code",
   "execution_count": null,
   "id": "71699ea2",
   "metadata": {},
   "outputs": [],
   "source": [
    "from pydantic import BaseModel\n",
    "from typing import Optional, Tuple, Literal, List, Generator\n",
    "class TranscriptionSegment(BaseModel):\n",
    "    \"\"\"Model for a single segment of transcription.\"\"\"\n",
    "    id: Optional[int] = None\n",
    "    text: str\n",
    "    timestamp: Tuple[float, Optional[float]]\n",
    "\n",
    "\n",
    "class TranscriptionRequest(BaseModel):\n",
    "    \"\"\"Model for transcription request parameters.\"\"\"\n",
    "    model_id: str\n",
    "    task: Literal[\"transcribe\", \"translate\"]\n",
    "    language: str = \"Automatic Detection\"\n",
    "    chunk_length: int = 30\n",
    "    batch_size: int = 24\n",
    "    filepath: str\n",
    "\n",
    "\n",
    "class TranscriptionResponse(BaseModel):\n",
    "    \"\"\"Model for transcription API response.\"\"\"\n",
    "    text: str\n",
    "    segments: List[TranscriptionSegment]"
   ]
  },
  {
   "cell_type": "code",
   "execution_count": null,
   "id": "adcdba98",
   "metadata": {},
   "outputs": [],
   "source": [
    "def parse_transcription(data: Generator) -> TranscriptionResponse:\n",
    "    segments = []\n",
    "    full_text_parts = []  # Collect text parts for concatenation\n",
    "\n",
    "    for segment in data:\n",
    "        segments.append(\n",
    "            TranscriptionSegment(\n",
    "                id=segment.id,\n",
    "                text=segment.text,\n",
    "                timestamp=(segment.start, segment.end),\n",
    "            )\n",
    "        )\n",
    "        full_text_parts.append(segment.text)  # Collect text for full text\n",
    "\n",
    "    # Concatenate all segment texts with a space separator\n",
    "    full_text = \" \".join(full_text_parts)\n",
    "\n",
    "    return TranscriptionResponse(\n",
    "        text=full_text,\n",
    "        segments=segments\n",
    "    )"
   ]
  },
  {
   "cell_type": "code",
   "execution_count": null,
   "id": "655ac737",
   "metadata": {},
   "outputs": [],
   "source": [
    "results = parse_transcription(segments)"
   ]
  },
  {
   "cell_type": "code",
   "execution_count": null,
   "id": "6a4fbccf",
   "metadata": {},
   "outputs": [],
   "source": [
    "results"
   ]
  }
 ],
 "metadata": {
  "kernelspec": {
   "display_name": ".env",
   "language": "python",
   "name": "python3"
  },
  "language_info": {
   "codemirror_mode": {
    "name": "ipython",
    "version": 3
   },
   "file_extension": ".py",
   "mimetype": "text/x-python",
   "name": "python",
   "nbconvert_exporter": "python",
   "pygments_lexer": "ipython3",
   "version": "3.10.16"
  }
 },
 "nbformat": 4,
 "nbformat_minor": 5
}
